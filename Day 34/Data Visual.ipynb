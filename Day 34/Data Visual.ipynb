{
 "cells": [
  {
   "cell_type": "code",
   "execution_count": 1,
   "metadata": {},
   "outputs": [],
   "source": [
    "import pandas as pd\n",
    "import numpy as np\n",
    "import matplotlib.pyplot as plt\n",
    "import matplotlib.image as im"
   ]
  },
  {
   "cell_type": "code",
   "execution_count": 2,
   "metadata": {},
   "outputs": [
    {
     "data": {
      "text/html": [
       "<div>\n",
       "<style scoped>\n",
       "    .dataframe tbody tr th:only-of-type {\n",
       "        vertical-align: middle;\n",
       "    }\n",
       "\n",
       "    .dataframe tbody tr th {\n",
       "        vertical-align: top;\n",
       "    }\n",
       "\n",
       "    .dataframe thead th {\n",
       "        text-align: right;\n",
       "    }\n",
       "</style>\n",
       "<table border=\"1\" class=\"dataframe\">\n",
       "  <thead>\n",
       "    <tr style=\"text-align: right;\">\n",
       "      <th></th>\n",
       "      <th>nama</th>\n",
       "      <th>mobil</th>\n",
       "      <th>jumlah</th>\n",
       "    </tr>\n",
       "  </thead>\n",
       "  <tbody>\n",
       "    <tr>\n",
       "      <td>0</td>\n",
       "      <td>Andi</td>\n",
       "      <td>mobil A</td>\n",
       "      <td>20</td>\n",
       "    </tr>\n",
       "    <tr>\n",
       "      <td>1</td>\n",
       "      <td>Andi</td>\n",
       "      <td>mobil B</td>\n",
       "      <td>22</td>\n",
       "    </tr>\n",
       "    <tr>\n",
       "      <td>2</td>\n",
       "      <td>Andi</td>\n",
       "      <td>mobil C</td>\n",
       "      <td>66</td>\n",
       "    </tr>\n",
       "    <tr>\n",
       "      <td>3</td>\n",
       "      <td>Budi</td>\n",
       "      <td>mobil A</td>\n",
       "      <td>21</td>\n",
       "    </tr>\n",
       "    <tr>\n",
       "      <td>4</td>\n",
       "      <td>Budi</td>\n",
       "      <td>mobil B</td>\n",
       "      <td>19</td>\n",
       "    </tr>\n",
       "    <tr>\n",
       "      <td>5</td>\n",
       "      <td>Budi</td>\n",
       "      <td>mobil C</td>\n",
       "      <td>34</td>\n",
       "    </tr>\n",
       "    <tr>\n",
       "      <td>6</td>\n",
       "      <td>Caca</td>\n",
       "      <td>mobil A</td>\n",
       "      <td>33</td>\n",
       "    </tr>\n",
       "    <tr>\n",
       "      <td>7</td>\n",
       "      <td>Caca</td>\n",
       "      <td>mobil B</td>\n",
       "      <td>40</td>\n",
       "    </tr>\n",
       "    <tr>\n",
       "      <td>8</td>\n",
       "      <td>Caca</td>\n",
       "      <td>mobil C</td>\n",
       "      <td>2</td>\n",
       "    </tr>\n",
       "  </tbody>\n",
       "</table>\n",
       "</div>"
      ],
      "text/plain": [
       "   nama    mobil  jumlah\n",
       "0  Andi  mobil A      20\n",
       "1  Andi  mobil B      22\n",
       "2  Andi  mobil C      66\n",
       "3  Budi  mobil A      21\n",
       "4  Budi  mobil B      19\n",
       "5  Budi  mobil C      34\n",
       "6  Caca  mobil A      33\n",
       "7  Caca  mobil B      40\n",
       "8  Caca  mobil C       2"
      ]
     },
     "execution_count": 2,
     "metadata": {},
     "output_type": "execute_result"
    }
   ],
   "source": [
    "df = pd.read_csv('dataSales.csv')\n",
    "df"
   ]
  },
  {
   "cell_type": "code",
   "execution_count": 3,
   "metadata": {},
   "outputs": [
    {
     "data": {
      "text/html": [
       "<div>\n",
       "<style scoped>\n",
       "    .dataframe tbody tr th:only-of-type {\n",
       "        vertical-align: middle;\n",
       "    }\n",
       "\n",
       "    .dataframe tbody tr th {\n",
       "        vertical-align: top;\n",
       "    }\n",
       "\n",
       "    .dataframe thead tr th {\n",
       "        text-align: left;\n",
       "    }\n",
       "\n",
       "    .dataframe thead tr:last-of-type th {\n",
       "        text-align: right;\n",
       "    }\n",
       "</style>\n",
       "<table border=\"1\" class=\"dataframe\">\n",
       "  <thead>\n",
       "    <tr>\n",
       "      <th></th>\n",
       "      <th colspan=\"3\" halign=\"left\">jumlah</th>\n",
       "    </tr>\n",
       "    <tr>\n",
       "      <th>mobil</th>\n",
       "      <th>mobil A</th>\n",
       "      <th>mobil B</th>\n",
       "      <th>mobil C</th>\n",
       "    </tr>\n",
       "    <tr>\n",
       "      <th>nama</th>\n",
       "      <th></th>\n",
       "      <th></th>\n",
       "      <th></th>\n",
       "    </tr>\n",
       "  </thead>\n",
       "  <tbody>\n",
       "    <tr>\n",
       "      <td>Andi</td>\n",
       "      <td>20</td>\n",
       "      <td>22</td>\n",
       "      <td>66</td>\n",
       "    </tr>\n",
       "    <tr>\n",
       "      <td>Budi</td>\n",
       "      <td>21</td>\n",
       "      <td>19</td>\n",
       "      <td>34</td>\n",
       "    </tr>\n",
       "    <tr>\n",
       "      <td>Caca</td>\n",
       "      <td>33</td>\n",
       "      <td>40</td>\n",
       "      <td>2</td>\n",
       "    </tr>\n",
       "  </tbody>\n",
       "</table>\n",
       "</div>"
      ],
      "text/plain": [
       "       jumlah                \n",
       "mobil mobil A mobil B mobil C\n",
       "nama                         \n",
       "Andi       20      22      66\n",
       "Budi       21      19      34\n",
       "Caca       33      40       2"
      ]
     },
     "execution_count": 3,
     "metadata": {},
     "output_type": "execute_result"
    }
   ],
   "source": [
    "# Hasil yang didapatkan kurang rapi dan menarik untuk di tampilkan, \n",
    "# sehingga butuh dirubah dengan Jenis Mobil sebagai kolom index\n",
    "\n",
    "df = df.pivot(index='nama', columns='mobil')\n",
    "df"
   ]
  },
  {
   "cell_type": "code",
   "execution_count": 4,
   "metadata": {},
   "outputs": [
    {
     "data": {
      "image/png": "[encoded data removed]",
      "text/plain": [
       "<Figure size 432x288 with 2 Axes>"
      ]
     },
     "metadata": {
      "needs_background": "light"
     },
     "output_type": "display_data"
    }
   ],
   "source": [
    "# Untuk melihat persebaran secara warna\n",
    "fig, p = plt.subplots()\n",
    "plt.imshow(df)\n",
    "plt.colorbar()\n",
    "plt.show()"
   ]
  },
  {
   "cell_type": "code",
   "execution_count": 5,
   "metadata": {},
   "outputs": [
    {
     "name": "stdout",
     "output_type": "stream",
     "text": [
      "mobil A\n",
      "mobil B\n",
      "mobil C\n"
     ]
    }
   ],
   "source": [
    "# Untuk memanggil kolom tertentu\n",
    "df.columns.tolist()\n",
    "print(df.columns.tolist()[0][1])\n",
    "print(df.columns.tolist()[1][1])\n",
    "print(df.columns.tolist()[2][1])"
   ]
  },
  {
   "cell_type": "code",
   "execution_count": 6,
   "metadata": {},
   "outputs": [
    {
     "name": "stdout",
     "output_type": "stream",
     "text": [
      "['mobil A', 'mobil B', 'mobil C']\n",
      "['Andi', 'Budi', 'Caca']\n"
     ]
    }
   ],
   "source": [
    "col = list(map(lambda x: x[1], df.columns.tolist()))\n",
    "i   = list(map(lambda x: x, df.index.tolist()))\n",
    "print(col)\n",
    "print(i)"
   ]
  },
  {
   "cell_type": "code",
   "execution_count": 7,
   "metadata": {},
   "outputs": [
    {
     "data": {
      "image/png": "[encoded data removed]",
      "text/plain": [
       "<Figure size 432x288 with 2 Axes>"
      ]
     },
     "metadata": {
      "needs_background": "light"
     },
     "output_type": "display_data"
    }
   ],
   "source": [
    "fig, p = plt.subplots()\n",
    "plt.imshow(df, cmap='hot_r')      # penambahan '_r' sebagai reverse atau dibalik\n",
    "plt.colorbar()\n",
    "\n",
    "col = list(map(lambda x: x[1], df.columns.tolist()))\n",
    "i   = list(map(lambda x: x, df.index.tolist()))\n",
    "\n",
    "p.set_xticks(np.arange(len(col)))\n",
    "p.set_xticklabels(col)\n",
    "p.set_yticks(np.arange(len(i)))\n",
    "p.set_yticklabels(i)\n",
    "p.set_ylim(2.5, -0.5)\n",
    "\n",
    "plt.show()"
   ]
  },
  {
   "cell_type": "code",
   "execution_count": 8,
   "metadata": {},
   "outputs": [
    {
     "data": {
      "image/png": "[encoded data removed]",
      "text/plain": [
       "<Figure size 432x288 with 2 Axes>"
      ]
     },
     "metadata": {
      "needs_background": "light"
     },
     "output_type": "display_data"
    }
   ],
   "source": [
    "fig, p = plt.subplots()\n",
    "plt.imshow(df, cmap='BuPu_r')      # penambahan '_r' sebagai reverse atau dibalik\n",
    "plt.colorbar()\n",
    "\n",
    "col = list(map(lambda x: x[1], df.columns.tolist()))\n",
    "i   = list(map(lambda x: x, df.index.tolist()))\n",
    "\n",
    "# Untuk memberi keterangan nilai dari tiap kotak\n",
    "for x in range(len(i)):\n",
    "    for y in range(len(col)):\n",
    "        p.text(\n",
    "            y, x, df.iloc[x, y], \n",
    "            color='k', fontsize=20, ha='center', va='center'\n",
    "        )\n",
    "\n",
    "p.set_xticks(np.arange(len(col)))\n",
    "p.set_xticklabels(col)\n",
    "p.set_yticks(np.arange(len(i)))\n",
    "p.set_yticklabels(i)\n",
    "p.set_ylim(2.5, -0.5)\n",
    "\n",
    "# plt.savefig('daftar.png')\n",
    "plt.show()"
   ]
  },
  {
   "cell_type": "code",
   "execution_count": 9,
   "metadata": {},
   "outputs": [
    {
     "data": {
      "text/html": [
       "<div>\n",
       "<style scoped>\n",
       "    .dataframe tbody tr th:only-of-type {\n",
       "        vertical-align: middle;\n",
       "    }\n",
       "\n",
       "    .dataframe tbody tr th {\n",
       "        vertical-align: top;\n",
       "    }\n",
       "\n",
       "    .dataframe thead th {\n",
       "        text-align: right;\n",
       "    }\n",
       "</style>\n",
       "<table border=\"1\" class=\"dataframe\">\n",
       "  <thead>\n",
       "    <tr style=\"text-align: right;\">\n",
       "      <th></th>\n",
       "      <th>nama</th>\n",
       "      <th>BB</th>\n",
       "      <th>TB</th>\n",
       "      <th>cabor</th>\n",
       "      <th>freqMakan</th>\n",
       "      <th>freqLatihan</th>\n",
       "      <th>medal</th>\n",
       "    </tr>\n",
       "  </thead>\n",
       "  <tbody>\n",
       "    <tr>\n",
       "      <td>0</td>\n",
       "      <td>Andi</td>\n",
       "      <td>45</td>\n",
       "      <td>195</td>\n",
       "      <td>basket</td>\n",
       "      <td>2</td>\n",
       "      <td>5</td>\n",
       "      <td>10</td>\n",
       "    </tr>\n",
       "    <tr>\n",
       "      <td>1</td>\n",
       "      <td>Budi</td>\n",
       "      <td>55</td>\n",
       "      <td>165</td>\n",
       "      <td>sepakbola</td>\n",
       "      <td>3</td>\n",
       "      <td>1</td>\n",
       "      <td>0</td>\n",
       "    </tr>\n",
       "    <tr>\n",
       "      <td>2</td>\n",
       "      <td>Caca</td>\n",
       "      <td>40</td>\n",
       "      <td>155</td>\n",
       "      <td>badminton</td>\n",
       "      <td>2</td>\n",
       "      <td>8</td>\n",
       "      <td>20</td>\n",
       "    </tr>\n",
       "  </tbody>\n",
       "</table>\n",
       "</div>"
      ],
      "text/plain": [
       "   nama  BB   TB      cabor  freqMakan  freqLatihan  medal\n",
       "0  Andi  45  195     basket          2            5     10\n",
       "1  Budi  55  165  sepakbola          3            1      0\n",
       "2  Caca  40  155  badminton          2            8     20"
      ]
     },
     "execution_count": 9,
     "metadata": {},
     "output_type": "execute_result"
    }
   ],
   "source": [
    "# Menggunakan korelasi untuk membuat korelasi berdasarkan \"data dummy\"\n",
    "df = pd.read_csv('atlit.csv')\n",
    "df"
   ]
  },
  {
   "cell_type": "code",
   "execution_count": 10,
   "metadata": {},
   "outputs": [
    {
     "data": {
      "text/html": [
       "<div>\n",
       "<style scoped>\n",
       "    .dataframe tbody tr th:only-of-type {\n",
       "        vertical-align: middle;\n",
       "    }\n",
       "\n",
       "    .dataframe tbody tr th {\n",
       "        vertical-align: top;\n",
       "    }\n",
       "\n",
       "    .dataframe thead th {\n",
       "        text-align: right;\n",
       "    }\n",
       "</style>\n",
       "<table border=\"1\" class=\"dataframe\">\n",
       "  <thead>\n",
       "    <tr style=\"text-align: right;\">\n",
       "      <th></th>\n",
       "      <th>BB</th>\n",
       "      <th>TB</th>\n",
       "      <th>freqMakan</th>\n",
       "      <th>freqLatihan</th>\n",
       "      <th>medal</th>\n",
       "    </tr>\n",
       "  </thead>\n",
       "  <tbody>\n",
       "    <tr>\n",
       "      <td>BB</td>\n",
       "      <td>1.000000</td>\n",
       "      <td>0.052414</td>\n",
       "      <td>0.944911</td>\n",
       "      <td>-0.994192</td>\n",
       "      <td>-0.981981</td>\n",
       "    </tr>\n",
       "    <tr>\n",
       "      <td>TB</td>\n",
       "      <td>0.052414</td>\n",
       "      <td>1.000000</td>\n",
       "      <td>-0.277350</td>\n",
       "      <td>-0.159586</td>\n",
       "      <td>-0.240192</td>\n",
       "    </tr>\n",
       "    <tr>\n",
       "      <td>freqMakan</td>\n",
       "      <td>0.944911</td>\n",
       "      <td>-0.277350</td>\n",
       "      <td>1.000000</td>\n",
       "      <td>-0.904194</td>\n",
       "      <td>-0.866025</td>\n",
       "    </tr>\n",
       "    <tr>\n",
       "      <td>freqLatihan</td>\n",
       "      <td>-0.994192</td>\n",
       "      <td>-0.159586</td>\n",
       "      <td>-0.904194</td>\n",
       "      <td>1.000000</td>\n",
       "      <td>0.996616</td>\n",
       "    </tr>\n",
       "    <tr>\n",
       "      <td>medal</td>\n",
       "      <td>-0.981981</td>\n",
       "      <td>-0.240192</td>\n",
       "      <td>-0.866025</td>\n",
       "      <td>0.996616</td>\n",
       "      <td>1.000000</td>\n",
       "    </tr>\n",
       "  </tbody>\n",
       "</table>\n",
       "</div>"
      ],
      "text/plain": [
       "                   BB        TB  freqMakan  freqLatihan     medal\n",
       "BB           1.000000  0.052414   0.944911    -0.994192 -0.981981\n",
       "TB           0.052414  1.000000  -0.277350    -0.159586 -0.240192\n",
       "freqMakan    0.944911 -0.277350   1.000000    -0.904194 -0.866025\n",
       "freqLatihan -0.994192 -0.159586  -0.904194     1.000000  0.996616\n",
       "medal       -0.981981 -0.240192  -0.866025     0.996616  1.000000"
      ]
     },
     "execution_count": 10,
     "metadata": {},
     "output_type": "execute_result"
    }
   ],
   "source": [
    "df.corr()"
   ]
  },
  {
   "cell_type": "code",
   "execution_count": 11,
   "metadata": {},
   "outputs": [
    {
     "data": {
      "image/png": "[encoded data removed]",
      "text/plain": [
       "<Figure size 432x288 with 2 Axes>"
      ]
     },
     "metadata": {
      "needs_background": "light"
     },
     "output_type": "display_data"
    }
   ],
   "source": [
    "df     = pd.read_csv('atlit.csv')\n",
    "dfCorr = df.corr()\n",
    "\n",
    "col = list(map(lambda x: x, dfCorr.columns.tolist()))\n",
    "\n",
    "plt.xticks(\n",
    "    np.arange(len(dfCorr.index)),\n",
    "    dfCorr.index.tolist(),\n",
    "    rotation=45\n",
    ")\n",
    "\n",
    "plt.yticks(\n",
    "    np.arange(len(dfCorr.index)),\n",
    "    dfCorr.index.tolist(),\n",
    ")\n",
    "\n",
    "\n",
    "for x in range(len(col)):\n",
    "    for y in range(len(col)):\n",
    "        plt.text(\n",
    "            y, x, round(dfCorr.iloc[x, y], 3), \n",
    "            color='black', fontsize=10, ha='center', va='center'\n",
    "        )\n",
    "\n",
    "plt.imshow(df.corr(), cmap='coolwarm_r')\n",
    "plt.colorbar()\n",
    "plt.show()"
   ]
  },
  {
   "cell_type": "code",
   "execution_count": 12,
   "metadata": {},
   "outputs": [
    {
     "data": {
      "image/png": "[encoded data removed]",
      "text/plain": [
       "<Figure size 432x288 with 1 Axes>"
      ]
     },
     "metadata": {
      "needs_background": "light"
     },
     "output_type": "display_data"
    }
   ],
   "source": [
    "import mpl_toolkits.mplot3d.axes3d\n",
    "\n",
    "# fig, p = plt.subplots()\n",
    "fig = plt.figure()\n",
    "p   =  plt.subplot(111, projection='3d')\n",
    "data = range(11)\n",
    "x   = np.array(data)\n",
    "\n",
    "p.plot_wireframe(\n",
    "    x, x, x.reshape(1, -1), color='r', linestyle=':'\n",
    ")\n",
    "\n",
    "p.scatter(x,x,x, marker='*', color='y', s=150)\n",
    "p.set_xlabel('sumbu X')\n",
    "p.set_ylabel('sumbu Y')\n",
    "p.set_zlabel('sumbu Z')\n",
    "plt.show()\n",
    "# Pada VSCode, gambar dapat digerakkan ke view point berbeda"
   ]
  },
  {
   "cell_type": "markdown",
   "metadata": {},
   "source": [
    "# Latihan\n",
    "Mengerjakan soal JCDS03. Link: https://github.com/lintangwisesa/Ujian_AnalyticsVisualization_JCDS03"
   ]
  },
  {
   "cell_type": "code",
   "execution_count": null,
   "metadata": {},
   "outputs": [],
   "source": []
  }
 ],
 "metadata": {
  "kernelspec": {
   "display_name": "Python 3",
   "language": "python",
   "name": "python3"
  },
  "language_info": {
   "codemirror_mode": {
    "name": "ipython",
    "version": 3
   },
   "file_extension": ".py",
   "mimetype": "text/x-python",
   "name": "python",
   "nbconvert_exporter": "python",
   "pygments_lexer": "ipython3",
   "version": "3.7.4"
  }
 },
 "nbformat": 4,
 "nbformat_minor": 4
}
